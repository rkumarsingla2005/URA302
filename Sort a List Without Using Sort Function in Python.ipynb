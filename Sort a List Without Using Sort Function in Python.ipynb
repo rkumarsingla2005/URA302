{
  "nbformat": 4,
  "nbformat_minor": 0,
  "metadata": {
    "colab": {
      "provenance": [],
      "authorship_tag": "ABX9TyOMM5hft59XAjX+r5JSzW6g",
      "include_colab_link": true
    },
    "kernelspec": {
      "name": "python3",
      "display_name": "Python 3"
    },
    "language_info": {
      "name": "python"
    }
  },
  "cells": [
    {
      "cell_type": "markdown",
      "metadata": {
        "id": "view-in-github",
        "colab_type": "text"
      },
      "source": [
        "<a href=\"https://colab.research.google.com/github/rkumarsingla2005/URA302/blob/main/Sort%20a%20List%20Without%20Using%20Sort%20Function%20in%20Python.ipynb\" target=\"_parent\"><img src=\"https://colab.research.google.com/assets/colab-badge.svg\" alt=\"Open In Colab\"/></a>"
      ]
    },
    {
      "cell_type": "markdown",
      "source": [
        "Sort a List Without Using Sort Function in Python"
      ],
      "metadata": {
        "id": "Anl5VZ1W1_r9"
      }
    },
    {
      "cell_type": "code",
      "source": [
        "#Python program to print a list\n",
        "# without using the sort() function\n",
        "# without an extra variable\n",
        "\n",
        "l1=[76, 23, 45, 12, 54, 9]\n",
        "print(\"Original List:\", l1)\n",
        "\n",
        "# sorting list using nested loops\n",
        "for i in range(0, len(l1)):\n",
        "    for j in range(i+1, len(l1)):\n",
        "        if l1[i] >= l1[j]:\n",
        "            l1[i], l1[j] = l1[j],l1[i]\n",
        "\n",
        "# sorted list\n",
        "print(\"Sorted List\", l1)"
      ],
      "metadata": {
        "colab": {
          "base_uri": "https://localhost:8080/"
        },
        "id": "wKDxF7Se2CLk",
        "outputId": "4fdc1bb9-0f78-48ea-f3f9-c9b61953b95a"
      },
      "execution_count": 1,
      "outputs": [
        {
          "output_type": "stream",
          "name": "stdout",
          "text": [
            "Original List: [76, 23, 45, 12, 54, 9]\n",
            "Sorted List [9, 12, 23, 45, 54, 76]\n"
          ]
        }
      ]
    }
  ]
}